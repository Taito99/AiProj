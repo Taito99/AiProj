{
 "cells": [
  {
   "cell_type": "code",
   "id": "initial_id",
   "metadata": {
    "collapsed": true,
    "ExecuteTime": {
     "end_time": "2025-06-20T10:30:06.297340Z",
     "start_time": "2025-06-20T10:30:06.294138Z"
    }
   },
   "source": [
    "import tensorflow as tf\n",
    "from tensorflow.keras import layers, models\n",
    "from tensorflow.keras.callbacks import EarlyStopping\n",
    "import matplotlib.pyplot as plt\n",
    "\n",
    "IMG_SIZE = (224, 224)\n",
    "BATCH_SIZE = 16\n",
    "EPOCHS = 10\n",
    "SEED = 123\n"
   ],
   "outputs": [],
   "execution_count": 22
  },
  {
   "metadata": {
    "ExecuteTime": {
     "end_time": "2025-06-20T10:30:07.947867Z",
     "start_time": "2025-06-20T10:30:06.746125Z"
    }
   },
   "cell_type": "code",
   "source": [
    "train_ds = tf.keras.preprocessing.image_dataset_from_directory(\n",
    "    \"dataset\",\n",
    "    validation_split=0.2,\n",
    "    subset=\"training\",\n",
    "    seed=SEED,\n",
    "    image_size=IMG_SIZE,\n",
    "    batch_size=BATCH_SIZE\n",
    ")\n",
    "\n",
    "val_ds = tf.keras.preprocessing.image_dataset_from_directory(\n",
    "    \"dataset\",\n",
    "    validation_split=0.2,\n",
    "    subset=\"validation\",\n",
    "    seed=SEED,\n",
    "    image_size=IMG_SIZE,\n",
    "    batch_size=BATCH_SIZE\n",
    ")\n",
    "\n",
    "class_names = train_ds.class_names\n",
    "print(\"Znalezione klasy:\", class_names)\n"
   ],
   "id": "b9d0eb63c57a20b7",
   "outputs": [
    {
     "name": "stdout",
     "output_type": "stream",
     "text": [
      "Found 20638 files belonging to 15 classes.\n",
      "Using 16511 files for training.\n",
      "Found 20638 files belonging to 15 classes.\n",
      "Using 4127 files for validation.\n",
      "Znalezione klasy: ['Pepper__bell___Bacterial_spot', 'Pepper__bell___healthy', 'Potato___Early_blight', 'Potato___Late_blight', 'Potato___healthy', 'Tomato_Bacterial_spot', 'Tomato_Early_blight', 'Tomato_Late_blight', 'Tomato_Leaf_Mold', 'Tomato_Septoria_leaf_spot', 'Tomato_Spider_mites_Two_spotted_spider_mite', 'Tomato__Target_Spot', 'Tomato__Tomato_YellowLeaf__Curl_Virus', 'Tomato__Tomato_mosaic_virus', 'Tomato_healthy']\n"
     ]
    }
   ],
   "execution_count": 23
  },
  {
   "metadata": {
    "ExecuteTime": {
     "end_time": "2025-06-20T10:30:08.719796Z",
     "start_time": "2025-06-20T10:30:08.571136Z"
    }
   },
   "cell_type": "code",
   "source": [
    "AUTOTUNE = tf.data.AUTOTUNE\n",
    "\n",
    "data_augmentation = tf.keras.Sequential([\n",
    "    layers.RandomFlip(\"horizontal_and_vertical\"),\n",
    "    layers.RandomRotation(0.3),\n",
    "    layers.RandomZoom(0.3),\n",
    "    layers.RandomContrast(0.2),\n",
    "    layers.RandomBrightness(0.2),\n",
    "])\n",
    "\n",
    "train_ds = train_ds.map(lambda x, y: (data_augmentation(x, training=True), y))\n",
    "train_ds = train_ds.cache().shuffle(1000).prefetch(buffer_size=AUTOTUNE)\n",
    "val_ds = val_ds.cache().prefetch(buffer_size=AUTOTUNE)\n"
   ],
   "id": "ceb1d6dddd889a40",
   "outputs": [],
   "execution_count": 24
  },
  {
   "metadata": {
    "ExecuteTime": {
     "end_time": "2025-06-20T10:30:10.818933Z",
     "start_time": "2025-06-20T10:30:10.377297Z"
    }
   },
   "cell_type": "code",
   "source": [
    "base_model = tf.keras.applications.EfficientNetB0(\n",
    "    input_shape=IMG_SIZE + (3,),\n",
    "    include_top=False,\n",
    "    weights='imagenet'\n",
    ")\n",
    "base_model.trainable = True\n",
    "\n",
    "# (opcjonalnie zamroź pierwsze 50 warstw)\n",
    "for layer in base_model.layers[:50]:\n",
    "    layer.trainable = False\n",
    "\n",
    "model = models.Sequential([\n",
    "    layers.Rescaling(1./255),\n",
    "    base_model,\n",
    "    layers.GlobalAveragePooling2D(),\n",
    "    layers.Dense(128, activation='relu'),\n",
    "    layers.Dropout(0.5),\n",
    "    layers.Dense(len(class_names), activation='softmax')\n",
    "])\n"
   ],
   "id": "2f01e9cb971461b8",
   "outputs": [],
   "execution_count": 25
  },
  {
   "metadata": {
    "ExecuteTime": {
     "end_time": "2025-06-20T10:30:12.483388Z",
     "start_time": "2025-06-20T10:30:12.477877Z"
    }
   },
   "cell_type": "code",
   "source": [
    "model.compile(\n",
    "    optimizer=tf.keras.optimizers.Adam(1e-5),\n",
    "    loss='sparse_categorical_crossentropy',\n",
    "    metrics=['accuracy']\n",
    ")\n"
   ],
   "id": "ff34ed162447402b",
   "outputs": [],
   "execution_count": 26
  },
  {
   "metadata": {
    "ExecuteTime": {
     "end_time": "2025-06-20T11:38:58.614780Z",
     "start_time": "2025-06-20T10:30:13.727955Z"
    }
   },
   "cell_type": "code",
   "source": [
    "early_stop = EarlyStopping(monitor='val_loss', patience=5, restore_best_weights=True)\n",
    "\n",
    "history = model.fit(\n",
    "    train_ds,\n",
    "    validation_data=val_ds,\n",
    "    epochs=EPOCHS,\n",
    "    callbacks=[early_stop]\n",
    ")\n"
   ],
   "id": "310aa13c7c646b44",
   "outputs": [
    {
     "name": "stdout",
     "output_type": "stream",
     "text": [
      "Epoch 1/10\n",
      "\u001B[1m2064/2064\u001B[0m \u001B[32m━━━━━━━━━━━━━━━━━━━━\u001B[0m\u001B[37m\u001B[0m \u001B[1m493s\u001B[0m 200ms/step - accuracy: 0.1817 - loss: 2.5358 - val_accuracy: 0.3165 - val_loss: 2.2341\n",
      "Epoch 2/10\n",
      "\u001B[1m2064/2064\u001B[0m \u001B[32m━━━━━━━━━━━━━━━━━━━━\u001B[0m\u001B[37m\u001B[0m \u001B[1m322s\u001B[0m 156ms/step - accuracy: 0.4566 - loss: 1.8170 - val_accuracy: 0.4417 - val_loss: 1.7314\n",
      "Epoch 3/10\n",
      "\u001B[1m2064/2064\u001B[0m \u001B[32m━━━━━━━━━━━━━━━━━━━━\u001B[0m\u001B[37m\u001B[0m \u001B[1m332s\u001B[0m 161ms/step - accuracy: 0.6019 - loss: 1.3314 - val_accuracy: 0.5619 - val_loss: 1.3397\n",
      "Epoch 4/10\n",
      "\u001B[1m2064/2064\u001B[0m \u001B[32m━━━━━━━━━━━━━━━━━━━━\u001B[0m\u001B[37m\u001B[0m \u001B[1m336s\u001B[0m 163ms/step - accuracy: 0.6815 - loss: 1.0411 - val_accuracy: 0.6416 - val_loss: 1.0836\n",
      "Epoch 5/10\n",
      "\u001B[1m2064/2064\u001B[0m \u001B[32m━━━━━━━━━━━━━━━━━━━━\u001B[0m\u001B[37m\u001B[0m \u001B[1m369s\u001B[0m 179ms/step - accuracy: 0.7312 - loss: 0.8729 - val_accuracy: 0.6802 - val_loss: 0.9982\n",
      "Epoch 6/10\n",
      "\u001B[1m2064/2064\u001B[0m \u001B[32m━━━━━━━━━━━━━━━━━━━━\u001B[0m\u001B[37m\u001B[0m \u001B[1m611s\u001B[0m 296ms/step - accuracy: 0.7701 - loss: 0.7418 - val_accuracy: 0.6712 - val_loss: 1.0029\n",
      "Epoch 7/10\n",
      "\u001B[1m2064/2064\u001B[0m \u001B[32m━━━━━━━━━━━━━━━━━━━━\u001B[0m\u001B[37m\u001B[0m \u001B[1m503s\u001B[0m 244ms/step - accuracy: 0.7907 - loss: 0.6764 - val_accuracy: 0.7381 - val_loss: 0.8083\n",
      "Epoch 8/10\n",
      "\u001B[1m2064/2064\u001B[0m \u001B[32m━━━━━━━━━━━━━━━━━━━━\u001B[0m\u001B[37m\u001B[0m \u001B[1m343s\u001B[0m 166ms/step - accuracy: 0.8119 - loss: 0.6099 - val_accuracy: 0.7507 - val_loss: 0.7944\n",
      "Epoch 9/10\n",
      "\u001B[1m2064/2064\u001B[0m \u001B[32m━━━━━━━━━━━━━━━━━━━━\u001B[0m\u001B[37m\u001B[0m \u001B[1m438s\u001B[0m 212ms/step - accuracy: 0.8323 - loss: 0.5435 - val_accuracy: 0.7519 - val_loss: 0.7793\n",
      "Epoch 10/10\n",
      "\u001B[1m2064/2064\u001B[0m \u001B[32m━━━━━━━━━━━━━━━━━━━━\u001B[0m\u001B[37m\u001B[0m \u001B[1m378s\u001B[0m 183ms/step - accuracy: 0.8500 - loss: 0.4977 - val_accuracy: 0.7344 - val_loss: 0.8505\n"
     ]
    }
   ],
   "execution_count": 27
  },
  {
   "metadata": {
    "ExecuteTime": {
     "end_time": "2025-06-20T11:39:40.295046Z",
     "start_time": "2025-06-20T11:39:06.324182Z"
    }
   },
   "cell_type": "code",
   "source": [
    "loss, acc = model.evaluate(val_ds)\n",
    "print(f\"Dokładność walidacji: {acc * 100:.2f}%\")"
   ],
   "id": "b46d882ab5d1661d",
   "outputs": [
    {
     "name": "stdout",
     "output_type": "stream",
     "text": [
      "\u001B[1m516/516\u001B[0m \u001B[32m━━━━━━━━━━━━━━━━━━━━\u001B[0m\u001B[37m\u001B[0m \u001B[1m34s\u001B[0m 66ms/step - accuracy: 0.7485 - loss: 0.7788\n",
      "Dokładność walidacji: 75.19%\n"
     ]
    }
   ],
   "execution_count": 28
  },
  {
   "metadata": {},
   "cell_type": "code",
   "outputs": [],
   "execution_count": null,
   "source": "",
   "id": "5bd2c44488e3d38c"
  }
 ],
 "metadata": {
  "kernelspec": {
   "display_name": "Python 3",
   "language": "python",
   "name": "python3"
  },
  "language_info": {
   "codemirror_mode": {
    "name": "ipython",
    "version": 2
   },
   "file_extension": ".py",
   "mimetype": "text/x-python",
   "name": "python",
   "nbconvert_exporter": "python",
   "pygments_lexer": "ipython2",
   "version": "2.7.6"
  }
 },
 "nbformat": 4,
 "nbformat_minor": 5
}
